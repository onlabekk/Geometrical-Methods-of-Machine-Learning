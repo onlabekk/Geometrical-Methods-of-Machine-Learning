{
 "cells": [
  {
   "cell_type": "markdown",
   "metadata": {},
   "source": [
    "# Geometrical Methods in Machine Learning\n",
    "\n",
    "## Homework 2"
   ]
  },
  {
   "cell_type": "markdown",
   "metadata": {},
   "source": [
    "### 1. Intrinsic dimension estimation (4 points)\n",
    "\n",
    "#### Correlation dimension\n",
    "\n",
    "Given a set $X_n = \\{x_1, \\dots, x_n\\}$ in a metric space, the _correlation dimension_ is defined\n",
    "\n",
    "$$C_n(r) = \\frac{2}{n(n -1)} \\sum_{i=1}^n \\sum_{j=i+1}^n \\mathbf{1}\\{\\|x_i - x_j\\| < r\\}.$$\n",
    "\n",
    "The correlation dimension is then estimated by plotting $\\log C_n(r)$ against $log(r)$ and estimating the slope of the linear part of the graph.\n",
    "\n",
    "You are asked to implement one of the following intrinsic dimension estimation methods:\n",
    "\n",
    "- correlation dimension, or\n",
    "- projection angle (Lecture 5 slides, pp. 31-34)\n",
    "\n",
    "Evaluate the obtained method and compare the estimates with global and local PCA and maximum likelihood estimation method for the airfoils and digits from [seminar 3](https://github.com/oleg-kachan/GMML2022/blob/main/seminar3/seminar3_solution.ipynb) datasets and summarize the obtained results in a table. Conclude.\n",
    "\n",
    "Feel free to reuse the code from Seminars 1 and 3."
   ]
  },
  {
   "cell_type": "code",
   "execution_count": null,
   "metadata": {},
   "outputs": [],
   "source": [
    "# your code here"
   ]
  },
  {
   "cell_type": "markdown",
   "metadata": {},
   "source": [
    "### 2. Manifold learning (4 points)"
   ]
  },
  {
   "cell_type": "markdown",
   "metadata": {},
   "source": [
    "Obtain `Extended Yale B` face dataset ([download](http://vision.ucsd.edu/extyaleb/CroppedYaleBZip/CroppedYale.zip)) which is comprised of 100x100 pixels images of 38 persons times 64 illumination conditions. Resize images to 32x32 pixels. You can do it using `Pillow` ([link](https://pillow.readthedocs.io/), tested) or any other image processing library of your choice.\n",
    "\n",
    "Estimate the intrinsic dimensionality with a method of your choice and perform dimensionality reduction to entrinsic dimension $\\hat{d}$ and dimensions 2 or 3 for visualization purposes using manifold learning methods of your choice.\n",
    "\n",
    "Compute NPR (neigborhood preservation ratio, see [seminar 4](https://github.com/oleg-kachan/GMML2022/blob/main/seminar4/seminar4_solution.ipynb)) of algorithms you have used for 2 different values of $d = \\{2$ or $3, \\hat{d} \\}$ and fixed number of nearest neighbors $k$. \n",
    "\n",
    "Explore the embedding space of size 2 or 3 for clusters and meaningful interpretations, comment the possible meaning of the new coordinates.\n",
    "\n",
    "Alternatively, you can perform this task on sklearn's `Olivetti faces` dataset."
   ]
  },
  {
   "cell_type": "code",
   "execution_count": null,
   "metadata": {},
   "outputs": [],
   "source": [
    "# your code here"
   ]
  },
  {
   "cell_type": "markdown",
   "metadata": {},
   "source": [
    "#### Grading:\n",
    "\n",
    "- 8/10 points are awarded for completing all the tasks and giving proper answers to questions.\n",
    "- 2/10 points are awarded for the quality of reporting, be sure to give explanations and comments to your solutions.\n",
    "- +1 extra point may be awarded for the extra work performed, be creative."
   ]
  }
 ],
 "metadata": {
  "kernelspec": {
   "display_name": "Python 3",
   "language": "python",
   "name": "python3"
  },
  "language_info": {
   "codemirror_mode": {
    "name": "ipython",
    "version": 3
   },
   "file_extension": ".py",
   "mimetype": "text/x-python",
   "name": "python",
   "nbconvert_exporter": "python",
   "pygments_lexer": "ipython3",
   "version": "3.8.3"
  }
 },
 "nbformat": 4,
 "nbformat_minor": 4
}
